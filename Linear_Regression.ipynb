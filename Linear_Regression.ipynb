{
  "nbformat": 4,
  "nbformat_minor": 0,
  "metadata": {
    "colab": {
      "provenance": [],
      "collapsed_sections": [],
      "authorship_tag": "ABX9TyOn2Y6HjXL+hkVgbQkPpNht",
      "include_colab_link": true
    },
    "kernelspec": {
      "name": "python3",
      "display_name": "Python 3"
    }
  },
  "cells": [
    {
      "cell_type": "markdown",
      "metadata": {
        "id": "view-in-github",
        "colab_type": "text"
      },
      "source": [
        "<a href=\"https://colab.research.google.com/github/graceyudhaaa/Linear-Regression-from-Scratch/blob/main/Linear_Regression.ipynb\" target=\"_parent\"><img src=\"https://colab.research.google.com/assets/colab-badge.svg\" alt=\"Open In Colab\"/></a>"
      ]
    },
    {
      "cell_type": "markdown",
      "metadata": {
        "id": "ZD3_GLvz0dQ8"
      },
      "source": [
        "#**Projek Analisis Algoritma**\n",
        "####**Linear Regression pada Data Nilai Ujian Matematika untuk Memprediksi Nilai Akhir**\n"
      ]
    },
    {
      "cell_type": "markdown",
      "metadata": {
        "id": "wzlMqXQEHTBs"
      },
      "source": [
        "#**Mounting google drive dengan google colab**\n",
        "#####**PENTING!**\n",
        "*Jalankan sel dibawah setiap kali kembali ke notebook ini.*"
      ]
    },
    {
      "cell_type": "code",
      "metadata": {
        "colab": {
          "base_uri": "https://localhost:8080/"
        },
        "id": "Ftr_PbT4HDma",
        "outputId": "d2261a7f-24f8-4e3f-ade5-9984a2bcfb91"
      },
      "source": [
        "from google.colab import drive\n",
        "\n",
        "drive.mount(\"/content/gdrive\")"
      ],
      "execution_count": null,
      "outputs": [
        {
          "output_type": "stream",
          "text": [
            "Mounted at /content/gdrive\n"
          ],
          "name": "stdout"
        }
      ]
    },
    {
      "cell_type": "code",
      "metadata": {
        "colab": {
          "base_uri": "https://localhost:8080/",
          "height": 35
        },
        "id": "DDEwmzRrIuop",
        "outputId": "fd46d6c0-24ad-4fad-9fba-cdcc62cfc148"
      },
      "source": [
        "%cd gdrive/MyDrive/Colab/"
      ],
      "execution_count": null,
      "outputs": [
        {
          "output_type": "execute_result",
          "data": {
            "application/vnd.google.colaboratory.intrinsic+json": {
              "type": "string"
            },
            "text/plain": [
              "'/content/gdrive/MyDrive/Colab'"
            ]
          },
          "metadata": {
            "tags": []
          },
          "execution_count": 6
        }
      ]
    },
    {
      "cell_type": "markdown",
      "metadata": {
        "id": "RvbAoCHPJBGx"
      },
      "source": [
        "###----------------------- Sukses Mounting dengan Google Drive -----------------------\n",
        "\n",
        "working directory: /content/gdrive/My Drive/Colab\n",
        "\n",
        "\n",
        "\n",
        "\n",
        "\n",
        "\n",
        "\n",
        "\n",
        "\n",
        "\n",
        "\n",
        "\n",
        "\\"
      ]
    },
    {
      "cell_type": "markdown",
      "metadata": {
        "id": "m-dK5v8GJkwI"
      },
      "source": [
        "#**Load dataset**\n",
        "\n",
        "link dataset https://archive.ics.uci.edu/ml/datasets/Student+Performance"
      ]
    },
    {
      "cell_type": "markdown",
      "metadata": {
        "id": "yQxNm-92Po2Y"
      },
      "source": [
        "##**Informasi tentang dataset**"
      ]
    },
    {
      "cell_type": "code",
      "metadata": {
        "colab": {
          "base_uri": "https://localhost:8080/"
        },
        "id": "TuIPl4BJI6kh",
        "outputId": "1d90ad8f-b458-48ad-907f-8b372919d7cf"
      },
      "source": [
        "%cd Dataset/student/\n",
        "%ls"
      ],
      "execution_count": null,
      "outputs": [
        {
          "output_type": "stream",
          "text": [
            "/content/gdrive/MyDrive/Colab/Dataset/student\n",
            "student-mat.csv  student-merge.R  student-por.csv  student.txt\n"
          ],
          "name": "stdout"
        }
      ]
    },
    {
      "cell_type": "code",
      "metadata": {
        "colab": {
          "base_uri": "https://localhost:8080/"
        },
        "id": "R6ttj6zIPvf3",
        "outputId": "6d26b84a-6a38-421b-8a16-7c6a65d4a72c"
      },
      "source": [
        "with open(\"student.txt\", \"r\") as f:\n",
        "  dataset_description = f.read()\n",
        "  print(dataset_description, end=\"\\n\\n\\n\\n\")"
      ],
      "execution_count": null,
      "outputs": [
        {
          "output_type": "stream",
          "text": [
            "# Attributes for both student-mat.csv (Math course) and student-por.csv (Portuguese language course) datasets:\n",
            "1 school - student's school (binary: \"GP\" - Gabriel Pereira or \"MS\" - Mousinho da Silveira)\n",
            "2 sex - student's sex (binary: \"F\" - female or \"M\" - male)\n",
            "3 age - student's age (numeric: from 15 to 22)\n",
            "4 address - student's home address type (binary: \"U\" - urban or \"R\" - rural)\n",
            "5 famsize - family size (binary: \"LE3\" - less or equal to 3 or \"GT3\" - greater than 3)\n",
            "6 Pstatus - parent's cohabitation status (binary: \"T\" - living together or \"A\" - apart)\n",
            "7 Medu - mother's education (numeric: 0 - none,  1 - primary education (4th grade), 2 – 5th to 9th grade, 3 – secondary education or 4 – higher education)\n",
            "8 Fedu - father's education (numeric: 0 - none,  1 - primary education (4th grade), 2 – 5th to 9th grade, 3 – secondary education or 4 – higher education)\n",
            "9 Mjob - mother's job (nominal: \"teacher\", \"health\" care related, civil \"services\" (e.g. administrative or police), \"at_home\" or \"other\")\n",
            "10 Fjob - father's job (nominal: \"teacher\", \"health\" care related, civil \"services\" (e.g. administrative or police), \"at_home\" or \"other\")\n",
            "11 reason - reason to choose this school (nominal: close to \"home\", school \"reputation\", \"course\" preference or \"other\")\n",
            "12 guardian - student's guardian (nominal: \"mother\", \"father\" or \"other\")\n",
            "13 traveltime - home to school travel time (numeric: 1 - <15 min., 2 - 15 to 30 min., 3 - 30 min. to 1 hour, or 4 - >1 hour)\n",
            "14 studytime - weekly study time (numeric: 1 - <2 hours, 2 - 2 to 5 hours, 3 - 5 to 10 hours, or 4 - >10 hours)\n",
            "15 failures - number of past class failures (numeric: n if 1<=n<3, else 4)\n",
            "16 schoolsup - extra educational support (binary: yes or no)\n",
            "17 famsup - family educational support (binary: yes or no)\n",
            "18 paid - extra paid classes within the course subject (Math or Portuguese) (binary: yes or no)\n",
            "19 activities - extra-curricular activities (binary: yes or no)\n",
            "20 nursery - attended nursery school (binary: yes or no)\n",
            "21 higher - wants to take higher education (binary: yes or no)\n",
            "22 internet - Internet access at home (binary: yes or no)\n",
            "23 romantic - with a romantic relationship (binary: yes or no)\n",
            "24 famrel - quality of family relationships (numeric: from 1 - very bad to 5 - excellent)\n",
            "25 freetime - free time after school (numeric: from 1 - very low to 5 - very high)\n",
            "26 goout - going out with friends (numeric: from 1 - very low to 5 - very high)\n",
            "27 Dalc - workday alcohol consumption (numeric: from 1 - very low to 5 - very high)\n",
            "28 Walc - weekend alcohol consumption (numeric: from 1 - very low to 5 - very high)\n",
            "29 health - current health status (numeric: from 1 - very bad to 5 - very good)\n",
            "30 absences - number of school absences (numeric: from 0 to 93)\n",
            "\n",
            "# these grades are related with the course subject, Math or Portuguese:\n",
            "31 G1 - first period grade (numeric: from 0 to 20)\n",
            "31 G2 - second period grade (numeric: from 0 to 20)\n",
            "32 G3 - final grade (numeric: from 0 to 20, output target)\n",
            "\n",
            "Additional note: there are several (382) students that belong to both datasets . \n",
            "These students can be identified by searching for identical attributes\n",
            "that characterize each student, as shown in the annexed R file.\n",
            "\n",
            "\n",
            "\n",
            "\n"
          ],
          "name": "stdout"
        }
      ]
    },
    {
      "cell_type": "markdown",
      "metadata": {
        "id": "y5K3qHVcO3mC"
      },
      "source": [
        "##**Dataset**"
      ]
    },
    {
      "cell_type": "code",
      "metadata": {
        "colab": {
          "base_uri": "https://localhost:8080/"
        },
        "id": "bJv6IY00n4VC",
        "outputId": "c5a13107-fdc9-4ee4-ceb8-fd9d9ddab441"
      },
      "source": [
        "%ls"
      ],
      "execution_count": null,
      "outputs": [
        {
          "output_type": "stream",
          "text": [
            "student-mat.csv  student-merge.R  student-por.csv  student.txt\n"
          ],
          "name": "stdout"
        }
      ]
    },
    {
      "cell_type": "code",
      "metadata": {
        "colab": {
          "base_uri": "https://localhost:8080/",
          "height": 439
        },
        "id": "axe4L23dJuDy",
        "outputId": "ce9d56ef-d284-44a9-d29e-3da34b251947"
      },
      "source": [
        "import pandas as pd\n",
        "import numpy as np\n",
        "\n",
        "\n",
        "data = pd.read_csv(\"student-mat.csv\", sep=\";\")\n",
        "df = data.copy()\n",
        "df"
      ],
      "execution_count": null,
      "outputs": [
        {
          "output_type": "execute_result",
          "data": {
            "text/html": [
              "<div>\n",
              "<style scoped>\n",
              "    .dataframe tbody tr th:only-of-type {\n",
              "        vertical-align: middle;\n",
              "    }\n",
              "\n",
              "    .dataframe tbody tr th {\n",
              "        vertical-align: top;\n",
              "    }\n",
              "\n",
              "    .dataframe thead th {\n",
              "        text-align: right;\n",
              "    }\n",
              "</style>\n",
              "<table border=\"1\" class=\"dataframe\">\n",
              "  <thead>\n",
              "    <tr style=\"text-align: right;\">\n",
              "      <th></th>\n",
              "      <th>school</th>\n",
              "      <th>sex</th>\n",
              "      <th>age</th>\n",
              "      <th>address</th>\n",
              "      <th>famsize</th>\n",
              "      <th>Pstatus</th>\n",
              "      <th>Medu</th>\n",
              "      <th>Fedu</th>\n",
              "      <th>Mjob</th>\n",
              "      <th>Fjob</th>\n",
              "      <th>reason</th>\n",
              "      <th>guardian</th>\n",
              "      <th>traveltime</th>\n",
              "      <th>studytime</th>\n",
              "      <th>failures</th>\n",
              "      <th>schoolsup</th>\n",
              "      <th>famsup</th>\n",
              "      <th>paid</th>\n",
              "      <th>activities</th>\n",
              "      <th>nursery</th>\n",
              "      <th>higher</th>\n",
              "      <th>internet</th>\n",
              "      <th>romantic</th>\n",
              "      <th>famrel</th>\n",
              "      <th>freetime</th>\n",
              "      <th>goout</th>\n",
              "      <th>Dalc</th>\n",
              "      <th>Walc</th>\n",
              "      <th>health</th>\n",
              "      <th>absences</th>\n",
              "      <th>G1</th>\n",
              "      <th>G2</th>\n",
              "      <th>G3</th>\n",
              "    </tr>\n",
              "  </thead>\n",
              "  <tbody>\n",
              "    <tr>\n",
              "      <th>0</th>\n",
              "      <td>GP</td>\n",
              "      <td>F</td>\n",
              "      <td>18</td>\n",
              "      <td>U</td>\n",
              "      <td>GT3</td>\n",
              "      <td>A</td>\n",
              "      <td>4</td>\n",
              "      <td>4</td>\n",
              "      <td>at_home</td>\n",
              "      <td>teacher</td>\n",
              "      <td>course</td>\n",
              "      <td>mother</td>\n",
              "      <td>2</td>\n",
              "      <td>2</td>\n",
              "      <td>0</td>\n",
              "      <td>yes</td>\n",
              "      <td>no</td>\n",
              "      <td>no</td>\n",
              "      <td>no</td>\n",
              "      <td>yes</td>\n",
              "      <td>yes</td>\n",
              "      <td>no</td>\n",
              "      <td>no</td>\n",
              "      <td>4</td>\n",
              "      <td>3</td>\n",
              "      <td>4</td>\n",
              "      <td>1</td>\n",
              "      <td>1</td>\n",
              "      <td>3</td>\n",
              "      <td>6</td>\n",
              "      <td>5</td>\n",
              "      <td>6</td>\n",
              "      <td>6</td>\n",
              "    </tr>\n",
              "    <tr>\n",
              "      <th>1</th>\n",
              "      <td>GP</td>\n",
              "      <td>F</td>\n",
              "      <td>17</td>\n",
              "      <td>U</td>\n",
              "      <td>GT3</td>\n",
              "      <td>T</td>\n",
              "      <td>1</td>\n",
              "      <td>1</td>\n",
              "      <td>at_home</td>\n",
              "      <td>other</td>\n",
              "      <td>course</td>\n",
              "      <td>father</td>\n",
              "      <td>1</td>\n",
              "      <td>2</td>\n",
              "      <td>0</td>\n",
              "      <td>no</td>\n",
              "      <td>yes</td>\n",
              "      <td>no</td>\n",
              "      <td>no</td>\n",
              "      <td>no</td>\n",
              "      <td>yes</td>\n",
              "      <td>yes</td>\n",
              "      <td>no</td>\n",
              "      <td>5</td>\n",
              "      <td>3</td>\n",
              "      <td>3</td>\n",
              "      <td>1</td>\n",
              "      <td>1</td>\n",
              "      <td>3</td>\n",
              "      <td>4</td>\n",
              "      <td>5</td>\n",
              "      <td>5</td>\n",
              "      <td>6</td>\n",
              "    </tr>\n",
              "    <tr>\n",
              "      <th>2</th>\n",
              "      <td>GP</td>\n",
              "      <td>F</td>\n",
              "      <td>15</td>\n",
              "      <td>U</td>\n",
              "      <td>LE3</td>\n",
              "      <td>T</td>\n",
              "      <td>1</td>\n",
              "      <td>1</td>\n",
              "      <td>at_home</td>\n",
              "      <td>other</td>\n",
              "      <td>other</td>\n",
              "      <td>mother</td>\n",
              "      <td>1</td>\n",
              "      <td>2</td>\n",
              "      <td>3</td>\n",
              "      <td>yes</td>\n",
              "      <td>no</td>\n",
              "      <td>yes</td>\n",
              "      <td>no</td>\n",
              "      <td>yes</td>\n",
              "      <td>yes</td>\n",
              "      <td>yes</td>\n",
              "      <td>no</td>\n",
              "      <td>4</td>\n",
              "      <td>3</td>\n",
              "      <td>2</td>\n",
              "      <td>2</td>\n",
              "      <td>3</td>\n",
              "      <td>3</td>\n",
              "      <td>10</td>\n",
              "      <td>7</td>\n",
              "      <td>8</td>\n",
              "      <td>10</td>\n",
              "    </tr>\n",
              "    <tr>\n",
              "      <th>3</th>\n",
              "      <td>GP</td>\n",
              "      <td>F</td>\n",
              "      <td>15</td>\n",
              "      <td>U</td>\n",
              "      <td>GT3</td>\n",
              "      <td>T</td>\n",
              "      <td>4</td>\n",
              "      <td>2</td>\n",
              "      <td>health</td>\n",
              "      <td>services</td>\n",
              "      <td>home</td>\n",
              "      <td>mother</td>\n",
              "      <td>1</td>\n",
              "      <td>3</td>\n",
              "      <td>0</td>\n",
              "      <td>no</td>\n",
              "      <td>yes</td>\n",
              "      <td>yes</td>\n",
              "      <td>yes</td>\n",
              "      <td>yes</td>\n",
              "      <td>yes</td>\n",
              "      <td>yes</td>\n",
              "      <td>yes</td>\n",
              "      <td>3</td>\n",
              "      <td>2</td>\n",
              "      <td>2</td>\n",
              "      <td>1</td>\n",
              "      <td>1</td>\n",
              "      <td>5</td>\n",
              "      <td>2</td>\n",
              "      <td>15</td>\n",
              "      <td>14</td>\n",
              "      <td>15</td>\n",
              "    </tr>\n",
              "    <tr>\n",
              "      <th>4</th>\n",
              "      <td>GP</td>\n",
              "      <td>F</td>\n",
              "      <td>16</td>\n",
              "      <td>U</td>\n",
              "      <td>GT3</td>\n",
              "      <td>T</td>\n",
              "      <td>3</td>\n",
              "      <td>3</td>\n",
              "      <td>other</td>\n",
              "      <td>other</td>\n",
              "      <td>home</td>\n",
              "      <td>father</td>\n",
              "      <td>1</td>\n",
              "      <td>2</td>\n",
              "      <td>0</td>\n",
              "      <td>no</td>\n",
              "      <td>yes</td>\n",
              "      <td>yes</td>\n",
              "      <td>no</td>\n",
              "      <td>yes</td>\n",
              "      <td>yes</td>\n",
              "      <td>no</td>\n",
              "      <td>no</td>\n",
              "      <td>4</td>\n",
              "      <td>3</td>\n",
              "      <td>2</td>\n",
              "      <td>1</td>\n",
              "      <td>2</td>\n",
              "      <td>5</td>\n",
              "      <td>4</td>\n",
              "      <td>6</td>\n",
              "      <td>10</td>\n",
              "      <td>10</td>\n",
              "    </tr>\n",
              "    <tr>\n",
              "      <th>...</th>\n",
              "      <td>...</td>\n",
              "      <td>...</td>\n",
              "      <td>...</td>\n",
              "      <td>...</td>\n",
              "      <td>...</td>\n",
              "      <td>...</td>\n",
              "      <td>...</td>\n",
              "      <td>...</td>\n",
              "      <td>...</td>\n",
              "      <td>...</td>\n",
              "      <td>...</td>\n",
              "      <td>...</td>\n",
              "      <td>...</td>\n",
              "      <td>...</td>\n",
              "      <td>...</td>\n",
              "      <td>...</td>\n",
              "      <td>...</td>\n",
              "      <td>...</td>\n",
              "      <td>...</td>\n",
              "      <td>...</td>\n",
              "      <td>...</td>\n",
              "      <td>...</td>\n",
              "      <td>...</td>\n",
              "      <td>...</td>\n",
              "      <td>...</td>\n",
              "      <td>...</td>\n",
              "      <td>...</td>\n",
              "      <td>...</td>\n",
              "      <td>...</td>\n",
              "      <td>...</td>\n",
              "      <td>...</td>\n",
              "      <td>...</td>\n",
              "      <td>...</td>\n",
              "    </tr>\n",
              "    <tr>\n",
              "      <th>390</th>\n",
              "      <td>MS</td>\n",
              "      <td>M</td>\n",
              "      <td>20</td>\n",
              "      <td>U</td>\n",
              "      <td>LE3</td>\n",
              "      <td>A</td>\n",
              "      <td>2</td>\n",
              "      <td>2</td>\n",
              "      <td>services</td>\n",
              "      <td>services</td>\n",
              "      <td>course</td>\n",
              "      <td>other</td>\n",
              "      <td>1</td>\n",
              "      <td>2</td>\n",
              "      <td>2</td>\n",
              "      <td>no</td>\n",
              "      <td>yes</td>\n",
              "      <td>yes</td>\n",
              "      <td>no</td>\n",
              "      <td>yes</td>\n",
              "      <td>yes</td>\n",
              "      <td>no</td>\n",
              "      <td>no</td>\n",
              "      <td>5</td>\n",
              "      <td>5</td>\n",
              "      <td>4</td>\n",
              "      <td>4</td>\n",
              "      <td>5</td>\n",
              "      <td>4</td>\n",
              "      <td>11</td>\n",
              "      <td>9</td>\n",
              "      <td>9</td>\n",
              "      <td>9</td>\n",
              "    </tr>\n",
              "    <tr>\n",
              "      <th>391</th>\n",
              "      <td>MS</td>\n",
              "      <td>M</td>\n",
              "      <td>17</td>\n",
              "      <td>U</td>\n",
              "      <td>LE3</td>\n",
              "      <td>T</td>\n",
              "      <td>3</td>\n",
              "      <td>1</td>\n",
              "      <td>services</td>\n",
              "      <td>services</td>\n",
              "      <td>course</td>\n",
              "      <td>mother</td>\n",
              "      <td>2</td>\n",
              "      <td>1</td>\n",
              "      <td>0</td>\n",
              "      <td>no</td>\n",
              "      <td>no</td>\n",
              "      <td>no</td>\n",
              "      <td>no</td>\n",
              "      <td>no</td>\n",
              "      <td>yes</td>\n",
              "      <td>yes</td>\n",
              "      <td>no</td>\n",
              "      <td>2</td>\n",
              "      <td>4</td>\n",
              "      <td>5</td>\n",
              "      <td>3</td>\n",
              "      <td>4</td>\n",
              "      <td>2</td>\n",
              "      <td>3</td>\n",
              "      <td>14</td>\n",
              "      <td>16</td>\n",
              "      <td>16</td>\n",
              "    </tr>\n",
              "    <tr>\n",
              "      <th>392</th>\n",
              "      <td>MS</td>\n",
              "      <td>M</td>\n",
              "      <td>21</td>\n",
              "      <td>R</td>\n",
              "      <td>GT3</td>\n",
              "      <td>T</td>\n",
              "      <td>1</td>\n",
              "      <td>1</td>\n",
              "      <td>other</td>\n",
              "      <td>other</td>\n",
              "      <td>course</td>\n",
              "      <td>other</td>\n",
              "      <td>1</td>\n",
              "      <td>1</td>\n",
              "      <td>3</td>\n",
              "      <td>no</td>\n",
              "      <td>no</td>\n",
              "      <td>no</td>\n",
              "      <td>no</td>\n",
              "      <td>no</td>\n",
              "      <td>yes</td>\n",
              "      <td>no</td>\n",
              "      <td>no</td>\n",
              "      <td>5</td>\n",
              "      <td>5</td>\n",
              "      <td>3</td>\n",
              "      <td>3</td>\n",
              "      <td>3</td>\n",
              "      <td>3</td>\n",
              "      <td>3</td>\n",
              "      <td>10</td>\n",
              "      <td>8</td>\n",
              "      <td>7</td>\n",
              "    </tr>\n",
              "    <tr>\n",
              "      <th>393</th>\n",
              "      <td>MS</td>\n",
              "      <td>M</td>\n",
              "      <td>18</td>\n",
              "      <td>R</td>\n",
              "      <td>LE3</td>\n",
              "      <td>T</td>\n",
              "      <td>3</td>\n",
              "      <td>2</td>\n",
              "      <td>services</td>\n",
              "      <td>other</td>\n",
              "      <td>course</td>\n",
              "      <td>mother</td>\n",
              "      <td>3</td>\n",
              "      <td>1</td>\n",
              "      <td>0</td>\n",
              "      <td>no</td>\n",
              "      <td>no</td>\n",
              "      <td>no</td>\n",
              "      <td>no</td>\n",
              "      <td>no</td>\n",
              "      <td>yes</td>\n",
              "      <td>yes</td>\n",
              "      <td>no</td>\n",
              "      <td>4</td>\n",
              "      <td>4</td>\n",
              "      <td>1</td>\n",
              "      <td>3</td>\n",
              "      <td>4</td>\n",
              "      <td>5</td>\n",
              "      <td>0</td>\n",
              "      <td>11</td>\n",
              "      <td>12</td>\n",
              "      <td>10</td>\n",
              "    </tr>\n",
              "    <tr>\n",
              "      <th>394</th>\n",
              "      <td>MS</td>\n",
              "      <td>M</td>\n",
              "      <td>19</td>\n",
              "      <td>U</td>\n",
              "      <td>LE3</td>\n",
              "      <td>T</td>\n",
              "      <td>1</td>\n",
              "      <td>1</td>\n",
              "      <td>other</td>\n",
              "      <td>at_home</td>\n",
              "      <td>course</td>\n",
              "      <td>father</td>\n",
              "      <td>1</td>\n",
              "      <td>1</td>\n",
              "      <td>0</td>\n",
              "      <td>no</td>\n",
              "      <td>no</td>\n",
              "      <td>no</td>\n",
              "      <td>no</td>\n",
              "      <td>yes</td>\n",
              "      <td>yes</td>\n",
              "      <td>yes</td>\n",
              "      <td>no</td>\n",
              "      <td>3</td>\n",
              "      <td>2</td>\n",
              "      <td>3</td>\n",
              "      <td>3</td>\n",
              "      <td>3</td>\n",
              "      <td>5</td>\n",
              "      <td>5</td>\n",
              "      <td>8</td>\n",
              "      <td>9</td>\n",
              "      <td>9</td>\n",
              "    </tr>\n",
              "  </tbody>\n",
              "</table>\n",
              "<p>395 rows × 33 columns</p>\n",
              "</div>"
            ],
            "text/plain": [
              "    school sex  age address famsize Pstatus  ...  Walc  health absences  G1  G2  G3\n",
              "0       GP   F   18       U     GT3       A  ...     1       3        6   5   6   6\n",
              "1       GP   F   17       U     GT3       T  ...     1       3        4   5   5   6\n",
              "2       GP   F   15       U     LE3       T  ...     3       3       10   7   8  10\n",
              "3       GP   F   15       U     GT3       T  ...     1       5        2  15  14  15\n",
              "4       GP   F   16       U     GT3       T  ...     2       5        4   6  10  10\n",
              "..     ...  ..  ...     ...     ...     ...  ...   ...     ...      ...  ..  ..  ..\n",
              "390     MS   M   20       U     LE3       A  ...     5       4       11   9   9   9\n",
              "391     MS   M   17       U     LE3       T  ...     4       2        3  14  16  16\n",
              "392     MS   M   21       R     GT3       T  ...     3       3        3  10   8   7\n",
              "393     MS   M   18       R     LE3       T  ...     4       5        0  11  12  10\n",
              "394     MS   M   19       U     LE3       T  ...     3       5        5   8   9   9\n",
              "\n",
              "[395 rows x 33 columns]"
            ]
          },
          "metadata": {
            "tags": []
          },
          "execution_count": 7
        }
      ]
    },
    {
      "cell_type": "markdown",
      "metadata": {
        "id": "iKaxIuaBs5ul"
      },
      "source": [
        "\\\n",
        "\\\n",
        "\\\n",
        "\\\n",
        "\\\n",
        "\\\n",
        "."
      ]
    },
    {
      "cell_type": "markdown",
      "metadata": {
        "id": "Sqlf3uZkYjp3"
      },
      "source": [
        "#**Eksplorasi Dataset**"
      ]
    },
    {
      "cell_type": "markdown",
      "metadata": {
        "id": "y6YXoswTgrsY"
      },
      "source": [
        "**Jumlah baris dan kolom yang ada pada dataset**"
      ]
    },
    {
      "cell_type": "code",
      "metadata": {
        "colab": {
          "base_uri": "https://localhost:8080/"
        },
        "id": "U7S9GmxRJ6Ps",
        "outputId": "10c77ffa-7bc4-4837-b9ae-5832a37bd0a2"
      },
      "source": [
        "print(f\"Jumlah baris data: {df.shape[0]}\\nJumlah kolom data: {df.shape[1]}\", end=\"\\n\\n\\n\\n\")"
      ],
      "execution_count": null,
      "outputs": [
        {
          "output_type": "stream",
          "text": [
            "Jumlah baris data: 395\n",
            "Jumlah kolom data: 33\n",
            "\n",
            "\n",
            "\n"
          ],
          "name": "stdout"
        }
      ]
    },
    {
      "cell_type": "markdown",
      "metadata": {
        "id": "fU9uMbFXg0vh"
      },
      "source": [
        "##**Memvisualisasikan dataset dari nilai tes siswa**\n"
      ]
    },
    {
      "cell_type": "code",
      "metadata": {
        "colab": {
          "base_uri": "https://localhost:8080/",
          "height": 316
        },
        "id": "uA8u4JOxYzol",
        "outputId": "d9826160-2cd5-465e-9646-a11ea604a38a"
      },
      "source": [
        "import matplotlib.pyplot as plt\n",
        "\n",
        "\n",
        "plt.figure(figsize=(10,4))\n",
        "plt.suptitle(\"Korelasi Antara Nilai Awal (G1) dengan Nilai Akhir(G3)\", fontsize=20)\n",
        "plt.xlabel(\"Nilai Akhir (G3)\", fontsize=18)\n",
        "plt.ylabel(\"Nilai Awal (G1)\", fontsize=18)\n",
        "scatter1 = plt.scatter(df[\"G3\"].drop(df[(df.studytime > 2)].index), df[\"G1\"].drop(df[((df.studytime > 2))].index), alpha=0.2, color=\"red\")\n",
        "scatter2 = plt.scatter(df[\"G3\"].drop(df[(df.studytime <= 2)].index), df[\"G1\"].drop(df[((df.studytime <= 2))].index), alpha=0.2)\n",
        "plt.legend((scatter1, scatter2),(\"Siswa dengan waktu belajar diatas 2 jam\",\"Siswa dengan waktu belajar dibawah 2 jam\"))\n",
        "plt.yticks([i for i in range(0,21,2)])\n",
        "plt.show()"
      ],
      "execution_count": null,
      "outputs": [
        {
          "output_type": "display_data",
          "data": {
            "image/png": "[encoded data removed]",
            "text/plain": [
              "<Figure size 720x288 with 1 Axes>"
            ]
          },
          "metadata": {
            "tags": [],
            "needs_background": "light"
          }
        }
      ]
    },
    {
      "cell_type": "markdown",
      "metadata": {
        "id": "It2Hfe-OgonS"
      },
      "source": [
        "Dilihat dari plot diatas, titik-titik tersebut merupakan visualisasi dari nilai siswa dengan koordinat x dari titik adalah nilai G3 dan kordinat y dari adalah nilai G1. Titik-titik yang berada di paling kiri merupakan siswa yang mendapatkan nilai 0 di ujian akhir.\n",
        "\n",
        "Plot tersebut juga memiliki warna dengan keterangan merah adalah plot siswa yang belajar dibawah 2 jam atau belajar 2 jam, dan plot biru merupakan siswa yang belajar lebih dari 2 jam. Kebanyakan dari siswa belajar selama kurang dari 2 jam\n",
        "\n",
        "Jika diperhatikan, plot yang berada di bagian kanan terlihat seperti mengikuti sebuah \"garis\".\n",
        "\n",
        "\\\n",
        "\\\n",
        "\\\n",
        "\\\n",
        "."
      ]
    },
    {
      "cell_type": "code",
      "metadata": {
        "colab": {
          "base_uri": "https://localhost:8080/",
          "height": 316
        },
        "id": "jkyUpZ5ZYzFp",
        "outputId": "a7a3cf0a-30f1-49b4-bc90-d3a489daa0cd"
      },
      "source": [
        "import matplotlib.pyplot as plt #import pyplot jika tidak menjalankan sel sebelumnya\n",
        "\n",
        "\n",
        "\n",
        "plt.figure(figsize=(10,4))\n",
        "plt.suptitle(\"Korelasi Antara Nilai Tes Kedua (G2) dengan Nilai Akhir(G3)\", fontsize=20)\n",
        "plt.xlabel(\"Nilai Akhir (G3)\", fontsize=18)\n",
        "plt.ylabel(\"Nilai Kedua (G2)\", fontsize=18)\n",
        "scatter1 = plt.scatter(df[\"G3\"].drop(df[(df.studytime > 2)].index), df[\"G1\"].drop(df[((df.studytime > 2))].index), alpha=0.2, color=\"red\")\n",
        "scatter2 = plt.scatter(df[\"G3\"].drop(df[(df.studytime <= 2)].index), df[\"G1\"].drop(df[((df.studytime <= 2))].index), alpha=0.2)\n",
        "plt.legend((scatter1, scatter2),(\"Siswa dengan waktu belajar diatas 2 jam\",\"Siswa dengan waktu belajar dibawah 2 jam\"))\n",
        "plt.yticks([i for i in range(0,22,2)])\n",
        "plt.show()"
      ],
      "execution_count": null,
      "outputs": [
        {
          "output_type": "display_data",
          "data": {
            "image/png": "[encoded data removed]",
            "text/plain": [
              "<Figure size 720x288 with 1 Axes>"
            ]
          },
          "metadata": {
            "tags": [],
            "needs_background": "light"
          }
        }
      ]
    },
    {
      "cell_type": "markdown",
      "metadata": {
        "id": "_cFS_W-5kVSc"
      },
      "source": [
        "Plot diatas merupakan scatter plot dengan Nilai akhir (G3) sebagai koordinat X dan Nilai kedua (G2) sebagai koordinat Y. \n",
        "\n",
        "Seperti plot sebelumnya, plot diatas juga memiliki warna dengan keterangan yang sama seperti plot sebelumnya. Warna merah adalah plot siswa yang belajar dibawah 2 jam atau belajar 2 jam, dan plot biru merupakan siswa yang belajar lebih dari 2 jam. \n",
        "\n",
        "Jika diperhatikan, plot yang berada di bagian kanan terlihat seperti mengikuti sebuah \"garis\", sama seperti plot sebelumnya. ini menunjukan adanya hubungan linear antara G1,G2 dan G3\n",
        "\n",
        "\\\n",
        "\\\n",
        "\\\n",
        "\\\n",
        "\\\n",
        "."
      ]
    },
    {
      "cell_type": "code",
      "metadata": {
        "colab": {
          "base_uri": "https://localhost:8080/",
          "height": 291
        },
        "id": "rvSteaOwQZTd",
        "outputId": "0d11797b-7723-43ce-ddf6-83ce59a26421"
      },
      "source": [
        "# df[\"studytime\"].plot(kind=\"hist\", bins=np.arange(6)-0.5, xticks=[i for i in range(1, 5)], xlabel=\"Waktu Belajar\")\n",
        "df['studytime'].value_counts(sort=False).plot(kind='bar')\n",
        "\n",
        "\n",
        "plt.gcf().suptitle(\"Waktu Belajar (Study time)\",fontsize=20)\n",
        "plt.show()"
      ],
      "execution_count": null,
      "outputs": [
        {
          "output_type": "display_data",
          "data": {
            "image/png": "[encoded data removed]",
            "text/plain": [
              "<Figure size 432x288 with 1 Axes>"
            ]
          },
          "metadata": {
            "tags": [],
            "needs_background": "light"
          }
        }
      ]
    },
    {
      "cell_type": "markdown",
      "metadata": {
        "id": "3vrsmGnrM0lM"
      },
      "source": [
        "Bar Chart diatas menunjukan jumlah siswa dan waktu belajarnya. mayoritas siswa belajar selama 2 jam.\n",
        "\\\n",
        "\\\n",
        "\\\n",
        "\\."
      ]
    },
    {
      "cell_type": "code",
      "metadata": {
        "colab": {
          "base_uri": "https://localhost:8080/"
        },
        "id": "xqTAMlAtHFc1",
        "outputId": "1205f7ea-225f-4dd1-9bc2-64895237a053"
      },
      "source": [
        "print(f\"\"\"Rata-rata nilai ujian awal: {df.G1.mean()}\n",
        "Rata-rata nilai ujian kedua: {df.G2.mean()}\n",
        "Rata-rata nilai ujian akhir: {df.G3.mean()}\n",
        "      \n",
        "Jangkauan rata-rata: {df.G1.mean() - df.G3.mean()}\"\"\")"
      ],
      "execution_count": null,
      "outputs": [
        {
          "output_type": "stream",
          "text": [
            "Rata-rata nilai ujian awal: 10.90886075949367\n",
            "Rata-rata nilai ujian kedua: 10.713924050632912\n",
            "Rata-rata nilai ujian akhir: 10.415189873417722\n",
            "      \n",
            "Jangkauan rata-rata: 0.49367088607594845\n"
          ],
          "name": "stdout"
        }
      ]
    },
    {
      "cell_type": "code",
      "metadata": {
        "colab": {
          "base_uri": "https://localhost:8080/",
          "height": 294
        },
        "id": "9KZHQ-G6-jmN",
        "outputId": "d20bcab3-72c9-45db-d840-058804a27d0f"
      },
      "source": [
        "average_ = [df.G1.mean(),df.G2.mean(),df.G3.mean()]\n",
        "plt.suptitle(\"Rata-Rata Nilai\", fontsize=20)\n",
        "plt.plot(['G1', 'G2', 'G3'], average_)\n",
        "plt.show()"
      ],
      "execution_count": null,
      "outputs": [
        {
          "output_type": "display_data",
          "data": {
            "image/png": "[encoded data removed]",
            "text/plain": [
              "<Figure size 432x288 with 1 Axes>"
            ]
          },
          "metadata": {
            "tags": [],
            "needs_background": "light"
          }
        }
      ]
    },
    {
      "cell_type": "markdown",
      "metadata": {
        "id": "o_X0ApU0PybS"
      },
      "source": [
        "Grafik diatas merupakan rata-rata nilai ujian dari ujian pertama hingga terakhir.\n",
        "dari grfik diatas terlihat bahwa rata-rata nilai mengalami penurunan, dengan data rata-rata masing masing ujian sebagai berikut:\n",
        "\n",
        "Rata-rata nilai ujian awal: 10.90886075949367\\\n",
        "Rata-rata nilai ujian kedua: 10.713924050632912\\\n",
        "Rata-rata nilai ujian akhir: 10.415189873417722\n",
        "      \n",
        "Jangkauan rata-rata: 0.49367088607594845\n",
        "\\\n",
        "\\\n",
        "\\\n",
        "\\\n",
        "."
      ]
    },
    {
      "cell_type": "markdown",
      "metadata": {
        "id": "Sd9PueWzf4xR"
      },
      "source": [
        "##**Plot Nilai Individual Siswa**"
      ]
    },
    {
      "cell_type": "code",
      "metadata": {
        "colab": {
          "base_uri": "https://localhost:8080/",
          "height": 493
        },
        "id": "EJ2D7qUDuhTP",
        "outputId": "d0147ee6-86f0-4e7b-890e-9ad76a1c1392"
      },
      "source": [
        "x = df.loc[:, \"G1\":\"G3\"]\n",
        "n = len(df) #jumlah siswa yang ditampilkan\n",
        "x_transpose = x.T.loc[:,:n]\n",
        "x_transpose.plot(kind=\"line\" , figsize=(5,7), yticks=[i for i in range(0,21,2)], legend=False, ylabel=\"Nilai\", xlabel=\"Ujian\", alpha=0.7)\n",
        "\n",
        "plt.gcf().suptitle(f\"Grafik nilai {n} siswa\",fontsize=20)\n",
        "plt.show()\n",
        "\n",
        "\n",
        "# plt.legend(loc='upper left', bbox_to_anchor=(1, 1.05))"
      ],
      "execution_count": null,
      "outputs": [
        {
          "output_type": "display_data",
          "data": {
            "image/png": "[encoded data removed]",
            "text/plain": [
              "<Figure size 360x504 with 1 Axes>"
            ]
          },
          "metadata": {
            "tags": [],
            "needs_background": "light"
          }
        }
      ]
    },
    {
      "cell_type": "markdown",
      "metadata": {
        "id": "tw0hwoqwxVAz"
      },
      "source": [
        "Dari line plot nilai tes siswa secara individual, kita mendapat insight yang menarik. Pada Ujian awal (G1) tidak ada siswa yang mendapat nilai 0. Namun beberapa siswa mendapat nilai 0 di ujian kedua, dan semua siswa yang mendapat nilai 0 di ujian kedua juga mendapat nilai 0 di ujian akhir. Hal ini sangat tidak biasa dan kemungkinan hal ini dikarenakan siswa-siswa tersebut tidak mengikuti ujian kedua dan ujian akhir.\n",
        "\\\n",
        "\\\n",
        "\\\n",
        "\\\n",
        "\\\n",
        "\\."
      ]
    },
    {
      "cell_type": "code",
      "metadata": {
        "colab": {
          "base_uri": "https://localhost:8080/",
          "height": 493
        },
        "id": "2JyKND9q_O_o",
        "outputId": "4cd17da6-13da-4a33-fbff-056b64e9f70c"
      },
      "source": [
        "x = df.loc[:, \"G1\":\"G3\"]\n",
        "n = 30 #jumlah siswa yang ditampilkan\n",
        "x_transpose = x.T.loc[:,:n]\n",
        "x_transpose.plot(kind=\"line\" , figsize=(5,7), legend=False, ylabel=\"Nilai\", xlabel=\"Ujian\", alpha=0.8)\n",
        "\n",
        "plt.gcf().suptitle(f\"Grafik nilai {n} siswa pertama\",fontsize=20)\n",
        "plt.show()\n",
        "\n",
        "# plt.legend(loc='upper left', bbox_to_anchor=(1, 1.05))"
      ],
      "execution_count": null,
      "outputs": [
        {
          "output_type": "display_data",
          "data": {
            "image/png": "[encoded data removed]",
            "text/plain": [
              "<Figure size 360x504 with 1 Axes>"
            ]
          },
          "metadata": {
            "tags": [],
            "needs_background": "light"
          }
        }
      ]
    },
    {
      "cell_type": "markdown",
      "metadata": {
        "id": "_4FxjB3YyzXj"
      },
      "source": [
        "Plot diatas merupakan plot nilai 30 siswa pertama.\n",
        "\n",
        "Jika kasus ekstrim seperti siswa yang mendapatkan nilai 0 diabaikan. maka terlihat bahwa perubahan nilai siswa tidak lah terlalu drastis. Itu artinya, menurut data yang ada, siswa yang mendapatkan nilai rendah akan tetap mendapat nilai yang relatif rendah, dan siswa yang mendapat nilai tinggi akan tetap mendapatkan nilai yang tinggi\n",
        "\\\n",
        "\\\n",
        "\\\n",
        "\\\n",
        "\\."
      ]
    },
    {
      "cell_type": "code",
      "metadata": {
        "colab": {
          "base_uri": "https://localhost:8080/",
          "height": 255
        },
        "id": "p7j0pS7M4hie",
        "outputId": "0afcb6a7-7b2d-453c-b3bf-9214353eb30d"
      },
      "source": [
        "import matplotlib.pyplot as plt\n",
        "\n",
        "plt.figure(figsize=(10, 3))\n",
        "plt.suptitle(\"Relasi Antara Siswa yang membayar kelas tambahan dengan Nilai Akhir (G3)\", fontsize=20)\n",
        "plt.xlabel(\"Nilai Akhir (G3)\", fontsize=18)\n",
        "plt.ylabel(\"Paid Course\", fontsize=16)\n",
        "plt.xticks([i for i in range(0,21,2)])\n",
        "plt.scatter(df[\"G3\"].drop(df[(df.paid == \"yes\")].index), df[\"paid\"].drop(df[(df.paid == \"yes\")].index), alpha=0.1, s=80, color=\"firebrick\")\n",
        "plt.scatter(df[\"G3\"].drop(df[(df.paid == \"no\")].index), df[\"paid\"].drop(df[(df.paid == \"no\")].index), alpha=0.1, s=80, color=\"royalblue\")\n",
        "plt.show()"
      ],
      "execution_count": null,
      "outputs": [
        {
          "output_type": "display_data",
          "data": {
            "image/png": "[encoded data removed]",
            "text/plain": [
              "<Figure size 720x216 with 1 Axes>"
            ]
          },
          "metadata": {
            "tags": [],
            "needs_background": "light"
          }
        }
      ]
    },
    {
      "cell_type": "markdown",
      "metadata": {
        "id": "-kT22P2oTWER"
      },
      "source": [
        "Plot diatas menunjukan relasi siswa yang membayar extra course dan yang tidak memiliki extra courses.\n",
        "\n",
        "Distribusi diantara keduanya terlihat merata.\n",
        "Hal yang menarik dari plot diatas adalah informasi tentang peraih nilai tertinggi di ujian terakhir bukanlah siswa yang membayar extra course.\n",
        "\\\n",
        "\\\n",
        "\\\n",
        "\\."
      ]
    },
    {
      "cell_type": "code",
      "metadata": {
        "colab": {
          "base_uri": "https://localhost:8080/",
          "height": 294
        },
        "id": "bdiFTJVMyNlq",
        "outputId": "6208de2e-db6f-4aec-aa92-046083ce4b37"
      },
      "source": [
        "no_paid_course_student = len(df[\"paid\"].drop(df[(df.paid == \"yes\")].index))\n",
        "paid_course_student = len(df[\"paid\"].drop(df[(df.paid == \"no\")].index))\n",
        "\n",
        "plt.suptitle(\"Perbandingan Jumlah Siswa yang Mengikuti Extra Course dan Tidak Mengikuti Extra Course\", fontsize=20)\n",
        "plt.bar(['Paid Extra Course', 'Not Paying Extra Course'],[paid_course_student, no_paid_course_student], color=[\"royalblue\", \"firebrick\"])\n",
        "plt.show()\n",
        "\n",
        "# data['paid'].value_counts().sort_index(ascending=False).plot(kind='bar', color=[\"royalblue\", \"firebrick\"])\n",
        "# plt.gcf().suptitle(\"Histogram Jumlah Siswa dengan Waktu Belajar (Study time)\",fontsize=20)"
      ],
      "execution_count": null,
      "outputs": [
        {
          "output_type": "display_data",
          "data": {
            "image/png": "[encoded data removed]",
            "text/plain": [
              "<Figure size 432x288 with 1 Axes>"
            ]
          },
          "metadata": {
            "tags": [],
            "needs_background": "light"
          }
        }
      ]
    },
    {
      "cell_type": "markdown",
      "metadata": {
        "id": "pULDjZD9UHMx"
      },
      "source": [
        "Bar chart diatas menunjukan perbandingan jumlah siswa yang membayar extra course dan tidak membayar extra course. Kebanyakan siswa tidak membayar extra course.\n",
        "\\\n",
        "\\\n",
        "\\\n",
        "\\\n",
        "."
      ]
    },
    {
      "cell_type": "markdown",
      "metadata": {
        "id": "C6jbtQy3zRDf"
      },
      "source": [
        "##**Penarikan Kesimpulan**"
      ]
    },
    {
      "cell_type": "markdown",
      "metadata": {
        "id": "qNWoin1pzMF6"
      },
      "source": [
        "Dari visualisasi-visualisasi diatas. kita dapat menarik kesimpulan bahwa nilai G1, G2, G3 berhubungan linear, dan dari plot nilai individual siswa, jika kita membiarkan siswa yang mendapat nilai 0, kita dapat mengetahui bahwa perubahan nilai siswa dari setiap tes tidak terlalu signifikan.\n",
        "\n",
        "Maka dari itu, algoritma ***Linear Regression*** sangat cocok diaplikasikan ke dataset ini untuk memprediksi nilai akhir siswa.\n",
        "\\\n",
        "\\\n",
        "\\."
      ]
    },
    {
      "cell_type": "markdown",
      "metadata": {
        "id": "mHsD54ALfM4m"
      },
      "source": [
        "##**Memilih Variabel yang Tepat**"
      ]
    },
    {
      "cell_type": "markdown",
      "metadata": {
        "id": "-7hI9Loffbl3"
      },
      "source": [
        "Dari beberapa visualisasi diatas, kita dapat memilih variabel yang akan digunakan untuk membuat model linear regression.\n",
        "\n",
        "G1, G2, G3 karena berhubungan langsung linear.\\\n",
        "Studytime karena terdapat point dimana nilai siswa dapat maksimal (jika siswa belajar selama 2 jam).\n",
        "\n",
        "Sedangkan untuk paid course tidak berpengaruh karena distribusi nilainya merata dan bahkan peraih nilai tertinggi adalah siswa yang tidak mengambil paid course."
      ]
    },
    {
      "cell_type": "markdown",
      "metadata": {
        "id": "fB9uijNCU45R"
      },
      "source": [
        "#**Linear Regression**"
      ]
    },
    {
      "cell_type": "markdown",
      "metadata": {
        "id": "g_D_3lNdVTOA"
      },
      "source": [
        "Dalam statistika, ***Linear Regression*** adalah sebuah pendekatan untuk memodelkan hubungan antara variable terikat Y dan satu atau lebih variable bebas yang disebut X. Salah satu kegunaan dari regresi linear adalah untuk melakukan prediksi berdasarkan data-data yang telah dimiliki sebelumnya. Hubungan di antara variable-variabel tersebut disebut sebagai model regresi linear. Berdasarkan penggunaan variable bebas, maka regresi linear dapat dibagi menjadi dua, yaitu regresi linear univariate dan regresi linear multivariate.\n",
        "\n",
        "Dalam model dataset ini kita akan menggunakan ***Multivariate Linear Regression***, karena kita akan menggunakan lebih dari satu variabel bebas untuk memcoba membuat model prediksi nilai akhir siswa. Variabel bebas tersebut yaitu G1, G2, dan Studytime\n"
      ]
    },
    {
      "cell_type": "markdown",
      "metadata": {
        "id": "OxEIR9Lbu_ic"
      },
      "source": [
        "##***Multivariate Linear Regression***"
      ]
    },
    {
      "cell_type": "markdown",
      "metadata": {
        "id": "MUrUbmEf6Njy"
      },
      "source": [
        "###**Pendahuluan: *Simple Linear Regression***"
      ]
    },
    {
      "cell_type": "markdown",
      "metadata": {
        "id": "jibJ9-kEvUdb"
      },
      "source": [
        "Dalam Simple Linear Regression, modelnya hanya memiliki satu independent variable dengan bentuk persamaan\n",
        "\n",
        "$y =   \\beta _{0} + \\beta _{1}X +  \\varepsilon $\n",
        "\n",
        "dimana \\\n",
        "* $y$ adalah matrix berordo $n \\times  1$ berisi nilai asli dari sampel data, dengan $n$ adalah jumlah sampel data\n",
        "\n",
        "  $ y = \\begin{bmatrix} y_{1}  \\\\ y_{2} \\\\ . \\\\ . \\\\ . \\\\ y_{n} \\end{bmatrix} $\n",
        "  \n",
        "  \\\n",
        "\n",
        "* $X$ adalah matrix berordo $n \\times  1$ berisi nilai independent variabel/variabel bebas dari sampel data, dengan $n$ adalah jumlah sampel data\n",
        "\n",
        "  $ X = \\begin{bmatrix} X_{1}  \\\\ X_{2} \\\\ . \\\\ . \\\\ . \\\\ X_{n} \\end{bmatrix} $\n",
        "  \n",
        "  \\\n",
        "\n",
        "\n",
        "* $\\beta _{1}$ adalah koefisien ketergantungan terhadap independent variabe dari sampel data\n",
        "\n",
        "* $\\beta _{0}$ adalah ***y-intercept*** dari persamaan linear.\n",
        "\n",
        "* $\\varepsilon$ adalah matrix berordo $n \\times  1$ berisi error dari model linear regression, dengan $n$ adalah jumlah sampel data\n",
        "\n",
        "  $ \\varepsilon = \\begin{bmatrix} \\varepsilon_{1}  \\\\ \\varepsilon_{2} \\\\ . \\\\ . \\\\ . \\\\ \\varepsilon_{n} \\end{bmatrix} $\n",
        "\n",
        "\\\n",
        "\\\n",
        "\\\n",
        "Keterangan\n",
        "\n",
        "$y$ = dependent variabel\\\n",
        "$X$ = independent variabel\\\n",
        "$\\beta _{0}$ = y-intercept\\\n",
        "$\\beta _{1}$ = weight coefficient (ketergantungan $y$ terhadap $X$)\\\n",
        "$\\varepsilon$ = error (deviasi prediksi dari nilai yang asli)\n",
        "\n",
        "\n",
        "\n",
        "---\n",
        "####**Estimasi Simple Linear Regression**\n",
        "\n",
        "\n",
        "\\\n",
        "Namun, untuk menemukan nilai koefisien dengan tepat sangat tidak mungkin. Maka dari itu kita menggunakan Estimasi dari Simple Linear Regression.\n",
        "\n",
        "$ \\widehat{y}  =    \\widehat{\\beta _{0}} + \\widehat{\\beta _{1}}X $\n",
        "--\n",
        "\n",
        "\\\n",
        "Keterangan\n",
        "\n",
        "$\\widehat{y}$ = estimasi dependent variabel\\\n",
        "$X$ = independent variabel\\\n",
        "$\\widehat{\\beta _{0}}$ = estimasi y-intercept\\\n",
        "$\\widehat{\\beta _{1}}$ = estimasi weight coefficient (ketergantungan y terhadap x)\n",
        "\n",
        "Perhatikan bahwa error ($\\varepsilon$) tidak termasuk bagian dari persamaan diatas, karena persamaan tersebut merupakan estimasi.\n",
        "\\\n",
        "\\\n",
        "\\\n",
        ". "
      ]
    },
    {
      "cell_type": "markdown",
      "metadata": {
        "id": "WoJLbcxAxKz6"
      },
      "source": [
        "###***Multivariate Linear Regression***"
      ]
    },
    {
      "cell_type": "markdown",
      "metadata": {
        "id": "S4j69gIcIH2F"
      },
      "source": [
        "Persamaan untuk *Multivariate Linear Regression* hampir sama dengan *Simple Linear Regression* hanya saja dengan variabel bebas dan koefisien yang lebih banyak.\n",
        "\n",
        "\\\n",
        "$y =   \\beta _{0} + \\beta _{1}X_{1} + \\beta _{2}X_{2} + \\beta _{3}X_{3} + ...+\\varepsilon $\n",
        "\n",
        "\n",
        "\\\n",
        "\\\n",
        "persamaan diatas juga dapat diubah menjadi bentuk matrix\n",
        "\\\n",
        "\\\n",
        "$y =   X\\beta + \\varepsilon $\n",
        "\n",
        "\n",
        "dimana \\\n",
        "* $y$ adalah matrix berordo $n \\times  1$ berisi nilai asli dari sampel data, dengan $n$ adalah jumlah sampel data\n",
        "\n",
        "  $ y = \\begin{bmatrix} y_{1}  \\\\ y_{2} \\\\ . \\\\ . \\\\ . \\\\ y_{n} \\end{bmatrix} $\n",
        "  \n",
        "  \\\n",
        "\n",
        "* $X$ adalah matrix berordo $n \\times  (p+1)$ berisi nilai independent variabel/variabel bebas dari sampel data, dengan $n$ adalah jumlah sampel data dan $p$ adalah jumlah variabel bebas. ordo $(p + 1)$ dikarenakan ordo matrix $X$ harus menyesuaikan ordo $\\beta$ yang berordo $(p+1) \\times 1$ karena matrix $\\beta$ mencakup $\\beta _{0}$\n",
        "\\\n",
        "\\\n",
        "  $ X =  \\begin{bmatrix}\n",
        "1 &  x_{1,1} &  x_{1,2} &  . & . &  x_{1,p} \\\\\n",
        "1 &  x_{2,1} &  x_{2,2} &  . & . &  . \\\\ \n",
        "1 &  x_{3,1} &  x_{3,2} &  . & . &  . \\\\\n",
        "1 &  . &  . &  . & . &  . \\\\\n",
        "1 &  . &  . &  . & . &  . \\\\\n",
        "1 &  x_{n,1} &  x_{n,2} &  . & . &  x_{n,p}\n",
        "\\end{bmatrix}  $\n",
        "  \n",
        "  \\\n",
        "\n",
        "* $\\beta$ adalah matrix koefisien ketergantungan terhadap independent variabel dari sampel data, dengan $\\beta _{0}$ adalah y-intercept. Matrix $\\beta$ berordo $(p+1) \\times 1$\n",
        "\n",
        "  $ \\beta = \\begin{bmatrix} \\beta_{0}  \\\\ \\beta_{1} \\\\ \\beta_{2} \\\\ . \\\\ . \\\\ . \\\\ \\beta_{n} \\end{bmatrix} $\n",
        "  \n",
        "  \\\n",
        "\n",
        "*  $\\varepsilon$ adalah matrix berordo $n \\times  1$ berisi error dari model linear regression, dengan $n$ adalah jumlah sampel data\n",
        "\n",
        "  $ \\varepsilon = \\begin{bmatrix} \\varepsilon_{1}  \\\\ \\varepsilon_{2} \\\\ . \\\\ . \\\\ . \\\\ \\varepsilon_{n} \\end{bmatrix} $\n",
        "  \n",
        "  \n",
        "Jadi persamaan diatas jika ditulis ulang dalam bentuk matrix akan menjadi seperti berikut \n",
        "\n",
        "\n",
        "$ \\begin{bmatrix} y_{1}  \\\\ y_{2} \\\\ . \\\\ . \\\\ . \\\\ y_{n} \\end{bmatrix} = \\begin{bmatrix}\n",
        "1 &  x_{1,1} &  x_{1,2} &  . & . &  x_{1,p} \\\\\n",
        "1 &  x_{2,1} &  x_{2,2} &  . & . &  . \\\\ \n",
        "1 &  x_{3,1} &  x_{3,2} &  . & . &  . \\\\\n",
        "1 &  . &  . &  . & . &  . \\\\\n",
        "1 &  . &  . &  . & . &  . \\\\\n",
        "1 &  x_{n,1} &  x_{n,2} &  . & . &  x_{n,p}\n",
        "\\end{bmatrix} \\begin{bmatrix} \\beta_{0}  \\\\ \\beta_{1} \\\\ \\beta_{2} \\\\ . \\\\ . \\\\ . \\\\ \\beta_{n} \\end{bmatrix} + \\begin{bmatrix} \\varepsilon_{1}  \\\\ \\varepsilon_{2} \\\\ . \\\\ . \\\\ . \\\\ \\varepsilon_{n} \\end{bmatrix}$\n",
        "\n",
        "Persamaan diatas juga lebih mudah diproses oleh komputer, karena komputer memproses data yang banyak dengan lebih efisien jika dalam bentuk matrix\n",
        "\n",
        "---\n",
        "\\\n",
        "####**Estimasi Multivariate Linear Regression**\n",
        "\n",
        "\\\n",
        "Untuk menghitung estimasi dari y kita menggunakan persamaan berikut\n",
        "\n",
        "$\\widehat{y}  =   X\\widehat{\\beta}$\n",
        "--\n",
        "\n",
        "dengan keterangan\n",
        "\n",
        "* $\\widehat{y}$ adalah matrix berordo $n \\times  1$ berisi nilai asli dari sampel data, dengan $n$ adalah jumlah sampel data\n",
        "\n",
        "  $ \\widehat{y} = \\begin{bmatrix} \\widehat{y}_{1}  \\\\ \\widehat{y}_{2} \\\\ . \\\\ . \\\\ . \\\\ \\widehat{y}_{n} \\end{bmatrix} $\n",
        "  \n",
        "  \\\n",
        "\n",
        "* $X$ adalah matrix berordo $n \\times  (p+1)$ berisi nilai independent variabel/variabel bebas dari sampel data, dengan $n$ adalah jumlah sampel data dan $p$ adalah jumlah variabel bebas. ordo $(p + 1)$ dikarenakan ordo matrix $X$ harus menyesuaikan ordo $\\widehat{\\beta}$ yang berordo $(p+1) \\times 1$ karena matrix $\\widehat{\\beta}$ mencakup $\\widehat{\\beta} _{0}$\n",
        "\\\n",
        "\\\n",
        "  $ X =  \\begin{bmatrix}\n",
        "1 &  x_{1,1} &  x_{1,2} &  . & . &  x_{1,p} \\\\\n",
        "1 &  x_{2,1} &  x_{2,2} &  . & . &  . \\\\ \n",
        "1 &  x_{3,1} &  x_{3,2} &  . & . &  . \\\\\n",
        "1 &  . &  . &  . & . &  . \\\\\n",
        "1 &  . &  . &  . & . &  . \\\\\n",
        "1 &  x_{n,1} &  x_{n,2} &  . & . &  x_{n,p}\n",
        "\\end{bmatrix}  $\n",
        "  \n",
        "  \\\n",
        "\n",
        "* $\\widehat{\\beta}$ adalah matrix koefisien ketergantungan terhadap independent variabel dari sampel data, dengan $\\widehat{\\beta} _{0}$ adalah y-intercept. Matrix $\\widehat{\\beta}$ berordo $(p+1) \\times 1$\n",
        "\n",
        "  $ \\widehat{\\beta} = \\begin{bmatrix} \\widehat{\\beta}_{0}  \\\\ \\widehat{\\beta}_{1} \\\\ \\widehat{\\beta}_{2} \\\\ . \\\\ . \\\\ . \\\\ \\widehat{\\beta}_{n} \\end{bmatrix} $\n",
        "  \n",
        "  \\"
      ]
    },
    {
      "cell_type": "markdown",
      "metadata": {
        "id": "iS-QH2nQg-5Z"
      },
      "source": [
        "\n",
        "###**Menghitung Koefisien**"
      ]
    },
    {
      "cell_type": "markdown",
      "metadata": {
        "id": "DPexClIFvNmb"
      },
      "source": [
        "Rumus untuk menghitung estimasi koefisien ketergantungan adalah sebagai berikut\n",
        "\n",
        "$ \\widehat{ \\beta } =  ( X^{T} X)^{-1}  X^{T}y$\n",
        "\n",
        "\n",
        "Rumus tersebut diturunkan menggunakan metode *least squares* yaitu dengan cara meminimalkan nilai **Residual Sum of Square (RSS)**\n",
        "\\\n",
        "\\\n",
        "$min  \\sum_i^n ( y_{i}  -  \\widehat{y_{i}} ) ^{2} $\n",
        "\\\n",
        "\\\n",
        "Penurunan rumus $ \\widehat{ \\beta }$ sangatlah rumit dan memerlukan aplikasi kalkulus pada matrix. Untuk penjelasan penurunan dari rumus tersebut video berikut mempunyai penjelasan yang cukup mudah dipahami.\n",
        "\n",
        "[link video](https://youtu.be/K_EH2abOp00?t=466)\n"
      ]
    },
    {
      "cell_type": "markdown",
      "metadata": {
        "id": "hS6H-oez0jnv"
      },
      "source": [
        "###**Kompleksitas Waktu**\n",
        "\n",
        "Jika diperhatikan dari rumus-rumus untuk linear regression. Kebanyakan merupakan operasi matrix\n",
        "\n",
        "* $\\widehat{y}  =   X\\widehat{\\beta}$\n",
        "\n",
        "\n",
        "* $ \\widehat{ \\beta } =  ( X^{T} X)^{-1}  X^{T}y$\n",
        "\n",
        "Mari kita perhatikan. fungsi yang beroperasi pada matrix memerlukan dua variabel, yaitu jumlah baris dan jumlah kolom. pada hal ini kita menyebut p sebagai kolom (yaitu banyaknya variabel bebas), dan n sebagai baris (banyaknya sampel)\n",
        "\n",
        "untuk pedoman awal dari bermacam-macam kompleksitas waktu dari operasi matrix dasar, kita dapat melihat tabel dari [wikipedia](https://en.wikipedia.org/wiki/Computational_complexity_of_mathematical_operations#Matrix_algebra).\n",
        "\n",
        "\\\n",
        "\n",
        "Beberapa yang perlu diingat\n",
        "*   Mengalikan 2 matrix dengan ordo $m \\times n$ dan $m \\times p$ menghasilkan matrix dengan ordo $m \\times p$ dan membutuhkan kompleksitas waktu $O(mnp)$\n",
        "*   Mengalikan 2 matrix dengan ordo $n \\times n$ menghasilkan matrix dengan ordo $n \\times n$ dan membutuhkan kompleksitas waktu $O(n^{3})$\n",
        "*   Melakukan operasi inverse pada sebuah matrix berordo $n \\times n$ membutuhkan kompleksitas waktu $O(n^{3})$\n",
        "\n",
        "\\\n",
        "\\\n",
        "**Analisa Algoritma Estimasi$**\n",
        "\n",
        "\\\n",
        "\n",
        "$ \\widehat{ \\beta } =  ( X^{T} X)^{-1}  X^{T}y$\n",
        "\n",
        "\\\n",
        "\n",
        "1.   $X^{T} X$ adalah perkalian 2 matrix dengan ordo $(p + 1) \\times n$ dan $n \\times (p + 1)$, **menghasilkan matrix dengan ordo $(p + 1) \\times (p + 1)$** dan membutuhkan waktu \n",
        "$O((p + 1) n (p + 1)) = O((p + 1) ^{2} n)  = O(p^{2}n)$ \n",
        "\n",
        "\n",
        "2.   $( X^{T} X)^{-1}$ **menghasilkan inverse matrix dengan ordo $(p + 1) \\times (p + 1)$** dan membutuhkan waktu $O((p + 1) ^{3})  = O(p^{3})$\n",
        "\n",
        "\n",
        "3. $X^{T} y$ adalah perkalian 2 matrix dengan ordo $(p + 1) \\times n$ dan $n \\times 1$, **menghasilkan matrix dengan ordo $(p + 1) \\times 1$** dan membutuhkan waktu \n",
        "$O((p + 1) n \\times 1) = O(pn + n)  = O(pn)$\n",
        "\n",
        "\n",
        "4. $( X^{T} X)^{-1}  X^{T}y$ adalah perkalian 2 matrix dengan ordo $(p + 1) \\times (p + 1)$ dan $(p + 1) \\times 1$, **menghasilkan matrix dengan ordo $(p + 1) \\times 1$** dan membutuhkan waktu \n",
        "$O((p + 1) ^{2} \\times 1) = O(p^{2})$\n",
        "\n",
        "\n",
        "5. Dan untuk melengkapi, $\\widehat{y} = X\\widehat{\\beta}$ adalah perkalian 2 matrix dengan ordo  $n \\times (p + 1)$ dan $(p + 1) \\times 1$, **menghasilkan matrix dengan ordo $n \\times 1$** dan membutuhkan waktu \n",
        "$O((p + 1) n \\times 1) = O(pn + n)  = O(pn)$\n",
        "\n",
        "\\\n",
        "\n",
        "Maka total Big-O dari algoritma linear regression adalah\n",
        "\\\n",
        "\\\n",
        "$O(p^{2}n + p^{3} + pn + p^{2} + pn)$\n",
        "\n",
        "Kita ketahui bahwa:\n",
        "* $p^{3} > p^{2}$\n",
        "* $p^{2}n > pn$\n",
        "\n",
        "Maka, Kompleksitas waktu dari algoritma linear regression adalah $O(p^{2}n + p^{3})$ dengan keterangan:\n",
        "\n",
        "* n : Jumlah sample data (baris)\n",
        "* p : Jumlah variabel bebas (kolom)"
      ]
    },
    {
      "cell_type": "markdown",
      "metadata": {
        "id": "rBJom6IJdQ_D"
      },
      "source": []
    },
    {
      "cell_type": "markdown",
      "metadata": {
        "id": "ENleO_MnGvtO"
      },
      "source": [
        "#**Implementasi**"
      ]
    },
    {
      "cell_type": "code",
      "metadata": {
        "id": "AhyYFS7K70w3"
      },
      "source": [
        "import numpy as np                                      #--> numpy untuk pengelolaan matematika\n",
        "\n",
        "\n",
        "def random_sampling(*dataframe, test_size = 0.25):      #--> fungsi untuk mengampil random sampel\n",
        "  idx = dataframe[0].sample(frac=1).index\n",
        "  \n",
        "  training_size = 1 - test_size\n",
        "\n",
        "  returnval = []\n",
        "  for i in dataframe:\n",
        "    i = i.reindex(idx)\n",
        "\n",
        "    training = i[:int(len(i) * training_size)]\n",
        "    returnval.append(training)\n",
        "    test = i[int(len(i) * training_size):]\n",
        "    returnval.append(test)\n",
        "\n",
        "  return tuple(returnval) #return format: Training, Test...\n",
        "\n",
        "\n",
        "#ML Linear Regression model\n",
        "class MLinear_Regression:\n",
        "  def __init__(self):\n",
        "    pass\n",
        "\n",
        "  def train(self, X, y):\n",
        "    self.X = X.iloc[:]\n",
        "    self.X.insert(loc=0, column='intercept', value=1)\n",
        "    self.y = y.iloc[:]\n",
        "\n",
        "    X_transpose = self.X.T\n",
        "    first =np.linalg.inv(X_transpose.dot(self.X))\n",
        "    second = X_transpose.dot(self.y)\n",
        "    self.beta = first.dot(second)\n",
        "    self.y_hat = self.X.dot(self.beta)\n",
        "    self.intercept_ = self.beta[0]\n",
        "    self.coef_ = self.beta[1:]\n",
        "\n",
        "    self.RSS = 0                              #Mencari Residual sum of squares\n",
        "    for y_value, y_hat in zip(self.y, self.y_hat):\n",
        "      residual = y_value - y_hat\n",
        "      self.RSS += residual**2\n",
        "\n",
        "    self.TSS = 0                              #Mencari Total sum of squares\n",
        "    for y_value in self.y:\n",
        "      delta = y_value - self.y.mean()\n",
        "      self.TSS += delta**2\n",
        "\n",
        "    self.score = 1 - (self.RSS/self.TSS)      #Mencari R^2 (coefficient of determination)  atau akurasi model\n",
        "\n",
        "    return self\n",
        "\n",
        "  def predict(self, dependent):               \n",
        "    test_array = np.array(dependent)\n",
        "    if test_array.ndim == 1:\n",
        "      prediction = self.intercept_\n",
        "      for index, var in enumerate(test_array):\n",
        "        prediction += var * self.coef_[index]\n",
        "      \n",
        "      return prediction\n",
        "    else:\n",
        "      predictions = []\n",
        "      for var in test_array:\n",
        "        prediction = self.predict(var)\n",
        "        predictions.append(prediction)\n",
        "\n",
        "      return predictions\n",
        "\n",
        "    def __str__(self):\n",
        "      return f\"Linear Regression Model:\\nCoefficient of Determination: {self.score:'.2d'}\\nY-intercept: {self.intercept_}\\nKoefisien: \""
      ],
      "execution_count": null,
      "outputs": []
    },
    {
      "cell_type": "code",
      "metadata": {
        "colab": {
          "base_uri": "https://localhost:8080/",
          "height": 419
        },
        "id": "tsuFxBKl71ao",
        "outputId": "7c3a9436-f524-444d-f709-479aaf00ca0e"
      },
      "source": [
        "# Memilih variabel yang relevan\n",
        "df2 = df.copy(deep=True)\n",
        "df2 = df2[[\"studytime\", \"G1\", \"G2\" , \"G3\"]]\n",
        "df2"
      ],
      "execution_count": null,
      "outputs": [
        {
          "output_type": "execute_result",
          "data": {
            "text/html": [
              "<div>\n",
              "<style scoped>\n",
              "    .dataframe tbody tr th:only-of-type {\n",
              "        vertical-align: middle;\n",
              "    }\n",
              "\n",
              "    .dataframe tbody tr th {\n",
              "        vertical-align: top;\n",
              "    }\n",
              "\n",
              "    .dataframe thead th {\n",
              "        text-align: right;\n",
              "    }\n",
              "</style>\n",
              "<table border=\"1\" class=\"dataframe\">\n",
              "  <thead>\n",
              "    <tr style=\"text-align: right;\">\n",
              "      <th></th>\n",
              "      <th>studytime</th>\n",
              "      <th>G1</th>\n",
              "      <th>G2</th>\n",
              "      <th>G3</th>\n",
              "    </tr>\n",
              "  </thead>\n",
              "  <tbody>\n",
              "    <tr>\n",
              "      <th>0</th>\n",
              "      <td>2</td>\n",
              "      <td>5</td>\n",
              "      <td>6</td>\n",
              "      <td>6</td>\n",
              "    </tr>\n",
              "    <tr>\n",
              "      <th>1</th>\n",
              "      <td>2</td>\n",
              "      <td>5</td>\n",
              "      <td>5</td>\n",
              "      <td>6</td>\n",
              "    </tr>\n",
              "    <tr>\n",
              "      <th>2</th>\n",
              "      <td>2</td>\n",
              "      <td>7</td>\n",
              "      <td>8</td>\n",
              "      <td>10</td>\n",
              "    </tr>\n",
              "    <tr>\n",
              "      <th>3</th>\n",
              "      <td>3</td>\n",
              "      <td>15</td>\n",
              "      <td>14</td>\n",
              "      <td>15</td>\n",
              "    </tr>\n",
              "    <tr>\n",
              "      <th>4</th>\n",
              "      <td>2</td>\n",
              "      <td>6</td>\n",
              "      <td>10</td>\n",
              "      <td>10</td>\n",
              "    </tr>\n",
              "    <tr>\n",
              "      <th>...</th>\n",
              "      <td>...</td>\n",
              "      <td>...</td>\n",
              "      <td>...</td>\n",
              "      <td>...</td>\n",
              "    </tr>\n",
              "    <tr>\n",
              "      <th>390</th>\n",
              "      <td>2</td>\n",
              "      <td>9</td>\n",
              "      <td>9</td>\n",
              "      <td>9</td>\n",
              "    </tr>\n",
              "    <tr>\n",
              "      <th>391</th>\n",
              "      <td>1</td>\n",
              "      <td>14</td>\n",
              "      <td>16</td>\n",
              "      <td>16</td>\n",
              "    </tr>\n",
              "    <tr>\n",
              "      <th>392</th>\n",
              "      <td>1</td>\n",
              "      <td>10</td>\n",
              "      <td>8</td>\n",
              "      <td>7</td>\n",
              "    </tr>\n",
              "    <tr>\n",
              "      <th>393</th>\n",
              "      <td>1</td>\n",
              "      <td>11</td>\n",
              "      <td>12</td>\n",
              "      <td>10</td>\n",
              "    </tr>\n",
              "    <tr>\n",
              "      <th>394</th>\n",
              "      <td>1</td>\n",
              "      <td>8</td>\n",
              "      <td>9</td>\n",
              "      <td>9</td>\n",
              "    </tr>\n",
              "  </tbody>\n",
              "</table>\n",
              "<p>395 rows × 4 columns</p>\n",
              "</div>"
            ],
            "text/plain": [
              "     studytime  G1  G2  G3\n",
              "0            2   5   6   6\n",
              "1            2   5   5   6\n",
              "2            2   7   8  10\n",
              "3            3  15  14  15\n",
              "4            2   6  10  10\n",
              "..         ...  ..  ..  ..\n",
              "390          2   9   9   9\n",
              "391          1  14  16  16\n",
              "392          1  10   8   7\n",
              "393          1  11  12  10\n",
              "394          1   8   9   9\n",
              "\n",
              "[395 rows x 4 columns]"
            ]
          },
          "metadata": {
            "tags": []
          },
          "execution_count": 9
        }
      ]
    },
    {
      "cell_type": "code",
      "metadata": {
        "id": "9AujzmKg-38J"
      },
      "source": [
        "# Menyiapkan data\n",
        "y = df2[\"G3\"]\n",
        "X = df2.drop([\"G3\"], 1)"
      ],
      "execution_count": null,
      "outputs": []
    },
    {
      "cell_type": "code",
      "metadata": {
        "colab": {
          "base_uri": "https://localhost:8080/"
        },
        "id": "SGMSnEWV_b2n",
        "outputId": "371180a5-834d-4cec-fbdc-7063907d2c2e"
      },
      "source": [
        "import time\n",
        "\n",
        "# Melatih model\n",
        "X_train, x_test, Y_train, y_test = random_sampling(X, y, test_size=0.1)\n",
        "\n",
        "my_model = MLinear_Regression()\n",
        "\n",
        "training_time = time.time()\n",
        "my_model.train(X_train,  Y_train)\n",
        "training_time = time.time() - training_time\n",
        "\n",
        "print(\"Training Model Selesai\")\n",
        "print(f\"Jumlah data: {X_train.shape[0]}\")\n",
        "print(f\"Jumlah kolom: {X_train.shape[1]}\")\n",
        "print(f\"Waktu training: {training_time:.2g} detik\")\n",
        "print(f\"Tingkat akurasi model: {(my_model.score * 100):.2g}%\")\n",
        "print(f\"Y-intercept: {my_model.intercept_}\")\n",
        "print(f\"Koefisien: {my_model.coef_}\")\n"
      ],
      "execution_count": null,
      "outputs": [
        {
          "output_type": "stream",
          "text": [
            "Training Model Selesai\n",
            "Jumlah data: 355\n",
            "Jumlah kolom: 3\n",
            "Waktu training: 0.039 detik\n",
            "Tingkat akurasi model: 84%\n",
            "Y-intercept: -1.5736019339732508\n",
            "Koefisien: [-0.17800009  0.17468139  0.97515231]\n"
          ],
          "name": "stdout"
        }
      ]
    },
    {
      "cell_type": "code",
      "metadata": {
        "id": "lRyObpvaJBmM",
        "colab": {
          "base_uri": "https://localhost:8080/"
        },
        "outputId": "59517c17-afc2-4d89-d72a-4195ebd3afec"
      },
      "source": [
        "#testing model menggunakan test dataset\n",
        "from prettytable import PrettyTable\n",
        "predict = my_model.predict(x_test)\n",
        "\n",
        "\n",
        "t = PrettyTable(['Nilai asli', 'Nilai prediksi'])\n",
        "for nilai_asli, nilai_prediksi in zip(y_test.iloc[:], predict):\n",
        "  t.add_row([nilai_asli, int(round(nilai_prediksi))])\n",
        "\n",
        "print(t)"
      ],
      "execution_count": null,
      "outputs": [
        {
          "output_type": "stream",
          "text": [
            "+------------+----------------+\n",
            "| Nilai asli | Nilai prediksi |\n",
            "+------------+----------------+\n",
            "|     11     |       11       |\n",
            "|     10     |       9        |\n",
            "|     13     |       12       |\n",
            "|     9      |       8        |\n",
            "|     17     |       15       |\n",
            "|     12     |       13       |\n",
            "|     11     |       9        |\n",
            "|     10     |       9        |\n",
            "|     11     |       10       |\n",
            "|     15     |       15       |\n",
            "|     10     |       9        |\n",
            "|     6      |       5        |\n",
            "|     11     |       12       |\n",
            "|     0      |       8        |\n",
            "|     11     |       10       |\n",
            "|     7      |       7        |\n",
            "|     10     |       11       |\n",
            "|     14     |       14       |\n",
            "|     16     |       15       |\n",
            "|     12     |       12       |\n",
            "|     8      |       6        |\n",
            "|     18     |       18       |\n",
            "|     9      |       9        |\n",
            "|     13     |       13       |\n",
            "|     11     |       12       |\n",
            "|     0      |       4        |\n",
            "|     6      |       4        |\n",
            "|     14     |       14       |\n",
            "|     10     |       8        |\n",
            "|     11     |       9        |\n",
            "|     6      |       5        |\n",
            "|     10     |       8        |\n",
            "|     15     |       15       |\n",
            "|     13     |       13       |\n",
            "|     11     |       7        |\n",
            "|     15     |       15       |\n",
            "|     0      |       9        |\n",
            "|     12     |       12       |\n",
            "|     9      |       8        |\n",
            "|     9      |       10       |\n",
            "+------------+----------------+\n"
          ],
          "name": "stdout"
        }
      ]
    },
    {
      "cell_type": "code",
      "metadata": {
        "colab": {
          "base_uri": "https://localhost:8080/"
        },
        "id": "VpOI1z-iiRwS",
        "outputId": "e9801a4d-2aee-4c93-b7f1-d6717f516eda"
      },
      "source": [
        "# Memprediksi dari input\n",
        "\n",
        "jumlah = int(input(\"Masukan jumlah siswa yang akan diprediksi: \"))\n",
        "\n",
        "if jumlah > 1:\n",
        "  pred = []\n",
        "\n",
        "for i in range(jumlah):\n",
        "  studytime = int(input(f\"Masukan lama waktu belajar anak ke-{i + 1}: \"))\n",
        "  G1 = int(input(f\"Masukan nilai ujian pertama anak ke-{i + 1}: \"))\n",
        "  G2 = int(input(f\"Masukan nilai ujian kedua anak ke-{i + 1}: \"))\n",
        "  print('\\n')\n",
        "\n",
        "  ind_var = [studytime, G1, G2]\n",
        "  if jumlah > 1:\n",
        "    pred.append(ind_var)\n",
        "\n",
        "if jumlah > 1:\n",
        "  user_pred = my_model.predict(pred)\n",
        "else:\n",
        "  user_pred = my_model.predict(ind_var)\n",
        "\n",
        "if jumlah > 1:\n",
        "    for i, nilai in enumerate(user_pred):\n",
        "      print(f\"Prediksi Nilai Akhir anak ke-{i+1} : {nilai}\")\n",
        "else:\n",
        "  print(f\"Prediksi Nilai Akhir: {user_pred}\")"
      ],
      "execution_count": null,
      "outputs": [
        {
          "output_type": "stream",
          "text": [
            "Masukan jumlah siswa yang akan diprediksi: 3\n",
            "Masukan lama waktu belajar anak ke-1: 2\n",
            "Masukan nilai ujian pertama anak ke-1: 7\n",
            "Masukan nilai ujian kedua anak ke-1: 18\n",
            "\n",
            "\n",
            "Masukan lama waktu belajar anak ke-2: 1\n",
            "Masukan nilai ujian pertama anak ke-2: 7\n",
            "Masukan nilai ujian kedua anak ke-2: 9\n",
            "\n",
            "\n",
            "Masukan lama waktu belajar anak ke-3: 4\n",
            "Masukan nilai ujian pertama anak ke-3: 11\n",
            "Masukan nilai ujian kedua anak ke-3: 19\n",
            "\n",
            "\n",
            "Prediksi Nilai Akhir anak ke-1 : 17.006815463478425\n",
            "Prediksi Nilai Akhir anak ke-2 : 8.270803622219582\n",
            "Prediksi Nilai Akhir anak ke-3 : 18.252006732357017\n"
          ],
          "name": "stdout"
        }
      ]
    },
    {
      "cell_type": "markdown",
      "metadata": {
        "id": "AgKCGteizHDx"
      },
      "source": [
        "##**Optimalisasi Algoritma**"
      ]
    },
    {
      "cell_type": "markdown",
      "metadata": {
        "id": "Fqzw9vGjz-nd"
      },
      "source": [
        "Algoritma diatas mempunyai kompleksitas waktu $O(p^{2}n + p^{3})$ dimana $p^{3}$ berasal dari mencari inverse dari matrix $X^{T}X$.\n",
        "\n",
        "Namun dari pertemuan sebelumnya kita mengetahui bahwa ada algoritma inverse matrix \n",
        "yang hanya membutuhkan waktu $O(n^{2})$, yaitu dengan menghitung determinan terlebih dahulu.\n",
        "Jika kita menggunakan cara diatas maka kompleksitas waktu keseluruhan akan menjadi \n",
        "$O(p^{2}n + p^{2})$."
      ]
    },
    {
      "cell_type": "code",
      "metadata": {
        "id": "_tFFFs3Gu9CS"
      },
      "source": [
        "import numpy as np\n",
        "from sympy import Matrix #--> library untuk mencari determinant\n",
        "\n",
        "#ML Linear Regression model menggunakan inverse determinan\n",
        "class MLinear_Regression_opt:\n",
        "  def __init__(self):\n",
        "    pass\n",
        "\n",
        "  def train(self, X, y):\n",
        "    self.X = X.iloc[:]\n",
        "    self.X.insert(loc=0, column='intercept', value=1)\n",
        "    self.y = y.iloc[:]\n",
        "\n",
        "    X_transpose = np.array(self.X.T)\n",
        "    XtX = Matrix(X_transpose.dot(self.X))\n",
        "    first = np.array((1/XtX.det())*(XtX.adjugate())).astype(np.float64)\n",
        "    second = X_transpose.dot(self.y)\n",
        "    self.beta = first.dot(second)\n",
        "    self.y_hat = self.X.dot(self.beta)\n",
        "    self.intercept_ = self.beta[0]\n",
        "    self.coef_ = self.beta[1:]\n",
        "\n",
        "    self.RSS = 0                              #Mencari Residual sum of squares\n",
        "    for y_value, y_hat in zip(self.y, self.y_hat):\n",
        "      residual = y_value - y_hat\n",
        "      self.RSS += residual**2\n",
        "\n",
        "    self.TSS = 0                              #Mencari Total sum of squares\n",
        "    for y_value in self.y:\n",
        "      delta = y_value - self.y.mean()\n",
        "      self.TSS += delta**2\n",
        "\n",
        "    self.score = 1 - (self.RSS/self.TSS)      #Mencari R^2 (coefficient of determination)  atau akurasi model\n",
        "\n",
        "    return self\n",
        "\n",
        "  def predict(self, dependent):               \n",
        "    test_array = np.array(dependent)\n",
        "    if test_array.ndim == 1:\n",
        "      prediction = self.intercept_\n",
        "      for index, var in enumerate(test_array):\n",
        "        prediction += var * self.coef_[index]\n",
        "      \n",
        "      return prediction\n",
        "    else:\n",
        "      predictions = []\n",
        "      for var in test_array:\n",
        "        prediction = self.predict(var)\n",
        "        predictions.append(prediction)\n",
        "\n",
        "      return predictions"
      ],
      "execution_count": null,
      "outputs": []
    },
    {
      "cell_type": "code",
      "metadata": {
        "colab": {
          "base_uri": "https://localhost:8080/"
        },
        "id": "cDe4Ole91uXY",
        "outputId": "e5a00876-b417-4274-b79e-ea708f0d32fa"
      },
      "source": [
        "import time\n",
        "\n",
        "# Melatih model\n",
        "X_train, x_test, Y_train, y_test = random_sampling(X, y, test_size=0.1)\n",
        "\n",
        "my_model_opt = MLinear_Regression_opt()\n",
        "\n",
        "training_time = time.time()\n",
        "my_model_opt.train(X_train,  Y_train)\n",
        "training_time = time.time() - training_time\n",
        "\n",
        "print(\"Training Model Selesai\")\n",
        "print(f\"Jumlah data: {X_train.shape[0]}\")\n",
        "print(f\"Jumlah kolom: {X_train.shape[1]}\")\n",
        "print(f\"Waktu training: {training_time:.2g} detik\")\n",
        "print(f\"Tingkat akurasi model: {(my_model_opt.score * 100):.2g}%\")\n",
        "print(f\"Y-intercept: {my_model_opt.intercept_}\")\n",
        "print(f\"Koefisien: {my_model_opt.coef_}\")"
      ],
      "execution_count": null,
      "outputs": [
        {
          "output_type": "stream",
          "text": [
            "Training Model Selesai\n",
            "Jumlah data: 355\n",
            "Jumlah kolom: 3\n",
            "Waktu training: 0.03 detik\n",
            "Tingkat akurasi model: 83%\n",
            "Y-intercept: -1.6341041584716933\n",
            "Koefisien: [-0.23588723  0.1853843   0.98115911]\n"
          ],
          "name": "stdout"
        }
      ]
    },
    {
      "cell_type": "code",
      "metadata": {
        "colab": {
          "base_uri": "https://localhost:8080/"
        },
        "id": "E2u_7zhu8OHI",
        "outputId": "6c8da9ee-0821-42ce-95d4-928f0c59bdd1"
      },
      "source": [
        "# #perbandingan waktu training\n",
        "X_train, x_test, Y_train, y_test = random_sampling(X, y, test_size=0.1)\n",
        "\n",
        "original_model = MLinear_Regression()\n",
        "optimal_model = MLinear_Regression_opt()\n",
        "\n",
        "training_time = time.time()\n",
        "original_model.train(X_train,  Y_train)\n",
        "training_time = time.time() - training_time\n",
        "\n",
        "print(\"Training Model Selesai\")\n",
        "print(f\"Jumlah data: {X_train.shape[0]}\")\n",
        "print(f\"Jumlah kolom: {X_train.shape[1]}\")\n",
        "print(f\"Waktu training untuk model tidak teroptimisasi: {training_time:.2g} detik\")\n",
        "print(f\"Tingkat akurasi model: {(original_model.score * 100):.2f}%\")\n",
        "print(f\"Y-intercept: {original_model.intercept_}\")\n",
        "print(f\"Koefisien: {original_model.coef_}\")"
      ],
      "execution_count": null,
      "outputs": [
        {
          "output_type": "stream",
          "text": [
            "Training Model Selesai\n",
            "Jumlah data: 355\n",
            "Jumlah kolom: 3\n",
            "Waktu training untuk model tidak teroptimisasi: 0.032 detik\n",
            "Tingkat akurasi model: 82.27%\n",
            "Y-intercept: -1.4183423590365578\n",
            "Koefisien: [-0.20467608  0.1410332   1.00182818]\n"
          ],
          "name": "stdout"
        }
      ]
    },
    {
      "cell_type": "code",
      "metadata": {
        "colab": {
          "base_uri": "https://localhost:8080/"
        },
        "id": "aqEXAiqwHOVB",
        "outputId": "78713028-c1bb-4def-ad6c-20e9a1fbc26b"
      },
      "source": [
        "training_time_opt = time.time()\n",
        "optimal_model.train(X_train,  Y_train)\n",
        "training_time_opt = time.time() - training_time_opt\n",
        "\n",
        "\n",
        "print(\"Training Model Selesai\")\n",
        "print(f\"Jumlah data: {X_train.shape[0]}\")\n",
        "print(f\"Jumlah kolom: {X_train.shape[1]}\")\n",
        "print(f\"Waktu training untuk model teroptimisasi: {training_time_opt:.2g} detik\")\n",
        "print(f\"Tingkat akurasi model: {(optimal_model.score * 100):.2f}%\")\n",
        "print(f\"Y-intercept: {optimal_model.intercept_}\")\n",
        "print(f\"Koefisien: {optimal_model.coef_}\")"
      ],
      "execution_count": null,
      "outputs": [
        {
          "output_type": "stream",
          "text": [
            "Training Model Selesai\n",
            "Jumlah data: 355\n",
            "Jumlah kolom: 3\n",
            "Waktu training untuk model teroptimisasi: 0.025 detik\n",
            "Tingkat akurasi model: 82.27%\n",
            "Y-intercept: -1.418342359036373\n",
            "Koefisien: [-0.20467608  0.1410332   1.00182818]\n"
          ],
          "name": "stdout"
        }
      ]
    },
    {
      "cell_type": "code",
      "metadata": {
        "id": "12R0dDiZvEru",
        "colab": {
          "base_uri": "https://localhost:8080/"
        },
        "outputId": "199263c4-2b8e-40ff-ba15-8c54b9055362"
      },
      "source": [
        "from sklearn.linear_model import LinearRegression\n",
        "\n",
        "skl_model = LinearRegression()\n",
        "\n",
        "training_time_sk = time.time()\n",
        "skl_model.fit(X_train,  Y_train)\n",
        "training_time_sk = time.time() - training_time_sk\n",
        "\n",
        "print(\"Training Model Selesai\")\n",
        "print(f\"Jumlah data: {X_train.shape[0]}\")\n",
        "print(f\"Jumlah kolom: {X_train.shape[1]}\")\n",
        "print(f\"Waktu training untuk model SciKitlearn: {training_time_sk:.2g} detik\")\n",
        "print(f\"Tingkat akurasi model: {(skl_model.score(X_train, Y_train) * 100):.2f}%\")\n",
        "print(f\"Y-intercept: {skl_model.intercept_}\")\n",
        "print(f\"Koefisien: {skl_model.coef_}\")"
      ],
      "execution_count": null,
      "outputs": [
        {
          "output_type": "stream",
          "text": [
            "Training Model Selesai\n",
            "Jumlah data: 355\n",
            "Jumlah kolom: 3\n",
            "Waktu training untuk model SciKitlearn: 0.0021 detik\n",
            "Tingkat akurasi model: 82.27%\n",
            "Y-intercept: -1.4183423590363624\n",
            "Koefisien: [-0.20467608  0.1410332   1.00182818]\n"
          ],
          "name": "stdout"
        }
      ]
    },
    {
      "cell_type": "code",
      "metadata": {
        "id": "OUrg8KwDv_x0"
      },
      "source": [],
      "execution_count": null,
      "outputs": []
    }
  ]
}